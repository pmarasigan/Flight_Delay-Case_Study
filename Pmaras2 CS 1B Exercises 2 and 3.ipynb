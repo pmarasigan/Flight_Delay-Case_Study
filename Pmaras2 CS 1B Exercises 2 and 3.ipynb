{
 "cells": [
  {
   "cell_type": "code",
   "execution_count": 40,
   "metadata": {},
   "outputs": [],
   "source": [
    "#Patricia Marasigan IE300, Lab BD4, Case Study 1B, Exercises 2 & 3"
   ]
  },
  {
   "cell_type": "code",
   "execution_count": 38,
   "metadata": {},
   "outputs": [
    {
     "data": {
      "text/html": [
       "<div>\n",
       "<style scoped>\n",
       "    .dataframe tbody tr th:only-of-type {\n",
       "        vertical-align: middle;\n",
       "    }\n",
       "\n",
       "    .dataframe tbody tr th {\n",
       "        vertical-align: top;\n",
       "    }\n",
       "\n",
       "    .dataframe thead th {\n",
       "        text-align: right;\n",
       "    }\n",
       "</style>\n",
       "<table border=\"1\" class=\"dataframe\">\n",
       "  <thead>\n",
       "    <tr style=\"text-align: right;\">\n",
       "      <th></th>\n",
       "      <th>Carrier</th>\n",
       "      <th>Origin</th>\n",
       "      <th>Destination</th>\n",
       "      <th>Departure Delay</th>\n",
       "      <th>Arrival Delay</th>\n",
       "    </tr>\n",
       "  </thead>\n",
       "  <tbody>\n",
       "    <tr>\n",
       "      <th>0</th>\n",
       "      <td>AA</td>\n",
       "      <td>JFK</td>\n",
       "      <td>LAS</td>\n",
       "      <td>-5</td>\n",
       "      <td>-23</td>\n",
       "    </tr>\n",
       "    <tr>\n",
       "      <th>1</th>\n",
       "      <td>AA</td>\n",
       "      <td>SFO</td>\n",
       "      <td>ORD</td>\n",
       "      <td>-5</td>\n",
       "      <td>-27</td>\n",
       "    </tr>\n",
       "    <tr>\n",
       "      <th>2</th>\n",
       "      <td>AA</td>\n",
       "      <td>SFO</td>\n",
       "      <td>ORD</td>\n",
       "      <td>-1</td>\n",
       "      <td>-26</td>\n",
       "    </tr>\n",
       "    <tr>\n",
       "      <th>3</th>\n",
       "      <td>AA</td>\n",
       "      <td>SFO</td>\n",
       "      <td>ORD</td>\n",
       "      <td>-9</td>\n",
       "      <td>-30</td>\n",
       "    </tr>\n",
       "    <tr>\n",
       "      <th>4</th>\n",
       "      <td>AA</td>\n",
       "      <td>SFO</td>\n",
       "      <td>ORD</td>\n",
       "      <td>-9</td>\n",
       "      <td>-9</td>\n",
       "    </tr>\n",
       "  </tbody>\n",
       "</table>\n",
       "</div>"
      ],
      "text/plain": [
       "  Carrier Origin Destination  Departure Delay  Arrival Delay\n",
       "0      AA    JFK         LAS               -5            -23\n",
       "1      AA    SFO         ORD               -5            -27\n",
       "2      AA    SFO         ORD               -1            -26\n",
       "3      AA    SFO         ORD               -9            -30\n",
       "4      AA    SFO         ORD               -9             -9"
      ]
     },
     "execution_count": 38,
     "metadata": {},
     "output_type": "execute_result"
    }
   ],
   "source": [
    "#Exercise 2, Step 1: Read the dataset (I also chose to display it at the end)\n",
    "\n",
    "import numpy as np\n",
    "import pandas as pd\n",
    "import csv\n",
    "\n",
    "file  = 'FlightDelay.csv'\n",
    "df = pd.read_csv(file)\n",
    "df.head()"
   ]
  },
  {
   "cell_type": "code",
   "execution_count": 54,
   "metadata": {},
   "outputs": [
    {
     "data": {
      "text/html": [
       "<div>\n",
       "<style scoped>\n",
       "    .dataframe tbody tr th:only-of-type {\n",
       "        vertical-align: middle;\n",
       "    }\n",
       "\n",
       "    .dataframe tbody tr th {\n",
       "        vertical-align: top;\n",
       "    }\n",
       "\n",
       "    .dataframe thead th {\n",
       "        text-align: right;\n",
       "    }\n",
       "</style>\n",
       "<table border=\"1\" class=\"dataframe\">\n",
       "  <thead>\n",
       "    <tr style=\"text-align: right;\">\n",
       "      <th></th>\n",
       "      <th>Carrier</th>\n",
       "      <th>Origin</th>\n",
       "      <th>Destination</th>\n",
       "      <th>Departure Delay</th>\n",
       "      <th>Arrival Delay</th>\n",
       "      <th>Total Delay Time</th>\n",
       "      <th>Delayed?</th>\n",
       "      <th>Delayed</th>\n",
       "    </tr>\n",
       "  </thead>\n",
       "  <tbody>\n",
       "    <tr>\n",
       "      <th>0</th>\n",
       "      <td>AA</td>\n",
       "      <td>JFK</td>\n",
       "      <td>LAS</td>\n",
       "      <td>-5</td>\n",
       "      <td>-23</td>\n",
       "      <td>-28</td>\n",
       "      <td>N</td>\n",
       "      <td>N</td>\n",
       "    </tr>\n",
       "    <tr>\n",
       "      <th>1</th>\n",
       "      <td>AA</td>\n",
       "      <td>SFO</td>\n",
       "      <td>ORD</td>\n",
       "      <td>-5</td>\n",
       "      <td>-27</td>\n",
       "      <td>-32</td>\n",
       "      <td>N</td>\n",
       "      <td>N</td>\n",
       "    </tr>\n",
       "    <tr>\n",
       "      <th>2</th>\n",
       "      <td>AA</td>\n",
       "      <td>SFO</td>\n",
       "      <td>ORD</td>\n",
       "      <td>-1</td>\n",
       "      <td>-26</td>\n",
       "      <td>-27</td>\n",
       "      <td>N</td>\n",
       "      <td>N</td>\n",
       "    </tr>\n",
       "    <tr>\n",
       "      <th>3</th>\n",
       "      <td>AA</td>\n",
       "      <td>SFO</td>\n",
       "      <td>ORD</td>\n",
       "      <td>-9</td>\n",
       "      <td>-30</td>\n",
       "      <td>-39</td>\n",
       "      <td>N</td>\n",
       "      <td>N</td>\n",
       "    </tr>\n",
       "    <tr>\n",
       "      <th>4</th>\n",
       "      <td>AA</td>\n",
       "      <td>SFO</td>\n",
       "      <td>ORD</td>\n",
       "      <td>-9</td>\n",
       "      <td>-9</td>\n",
       "      <td>-18</td>\n",
       "      <td>N</td>\n",
       "      <td>N</td>\n",
       "    </tr>\n",
       "  </tbody>\n",
       "</table>\n",
       "</div>"
      ],
      "text/plain": [
       "  Carrier Origin Destination  Departure Delay  Arrival Delay  \\\n",
       "0      AA    JFK         LAS               -5            -23   \n",
       "1      AA    SFO         ORD               -5            -27   \n",
       "2      AA    SFO         ORD               -1            -26   \n",
       "3      AA    SFO         ORD               -9            -30   \n",
       "4      AA    SFO         ORD               -9             -9   \n",
       "\n",
       "   Total Delay Time Delayed? Delayed  \n",
       "0               -28        N       N  \n",
       "1               -32        N       N  \n",
       "2               -27        N       N  \n",
       "3               -39        N       N  \n",
       "4               -18        N       N  "
      ]
     },
     "execution_count": 54,
     "metadata": {},
     "output_type": "execute_result"
    }
   ],
   "source": [
    "#Exercise 2, Step 2 and 3: Compute the total delay time for each flight. Assign 'Y' if total delay > 15, and 'N' if vice versa (displayed below)\n",
    "\n",
    "df['Total Delay Time'] = df['Departure Delay'] + df['Arrival Delay']\n",
    "df['Delayed'] = np.where(df['Total Delay Time'] > 15 , 'Y','N')\n",
    "df.head()"
   ]
  },
  {
   "cell_type": "code",
   "execution_count": 76,
   "metadata": {},
   "outputs": [
    {
     "name": "stdout",
     "output_type": "stream",
     "text": [
      "JFK-LAS on American Airlines (AA): N\n",
      "Probability JFK-LAS on American Airlines (AA) Flight is Delayed: 0.0028647417627825585 \n",
      "JFK-LAS on American Airlines (AA) Flight is not Delayed: 0.013328766805905652\n"
     ]
    }
   ],
   "source": [
    "#Exercise 3: compute the probabilities of delay and not delay given the route and carrier and then classify whether the flight is delayed using Naive-Bayes (assume m = 3).\n",
    "\n",
    "m=3\n",
    "y_inst = df.Delayed.value_counts().Y                            #no. of occurences of Y\n",
    "n_inst = df.Delayed.value_counts().N                            #no. of occurences of N\n",
    "y = df.Delayed.value_counts(normalize=True).Y                   #rate of Y\n",
    "n = df.Delayed.value_counts(normalize=True).N                   #rate of N\n",
    "\n",
    "#JFK-LAS on American Airlines (AA)\n",
    "\n",
    "select_JFK = df.loc[df['Origin']=='JFK']                        #isolating data based on given conditions\n",
    "select_LAS = df.loc[df['Destination']=='LAS']\n",
    "select_AA = df.loc[df['Carrier']=='AA']\n",
    "\n",
    "PjfkY = (select_JFK.Delayed.value_counts().Y + m*.5) / (y_inst + m) #8 carriers, 3 destinations, 2 origins\n",
    "PjfkN = (select_JFK.Delayed.value_counts().N + m*.5) / (n_inst + m)\n",
    "PlasY = (select_LAS.Delayed.value_counts().Y + m/3) / (y_inst + m)\n",
    "PlasN = (select_LAS.Delayed.value_counts().N + m/3) / (n_inst + m)\n",
    "PaaY = (select_AA.Delayed.value_counts().Y + m/8) / (y_inst + m)\n",
    "PaaN = (select_AA.Delayed.value_counts().N + m/8) / (n_inst + m)\n",
    "\n",
    "PjlaaY = y*PjfkY*PlasY*PaaY         #compute Y & N probability for route + carrier\n",
    "PjlaaN = n*PjfkN*PlasN*PaaN\n",
    "\n",
    "if PjlaaY > PjlaaN:\n",
    "    print('JFK-LAS on American Airlines (AA): Y')\n",
    "else:\n",
    "    print('JFK-LAS on American Airlines (AA): N')\n",
    "print('Probability JFK-LAS on American Airlines (AA) Flight is Delayed:', PjlaaY ,'\\nJFK-LAS on American Airlines (AA) Flight is not Delayed:', PjlaaN ) \n",
    "\n",
    "\n",
    "\n",
    "\n"
   ]
  },
  {
   "cell_type": "code",
   "execution_count": 75,
   "metadata": {},
   "outputs": [
    {
     "name": "stdout",
     "output_type": "stream",
     "text": [
      "JFK-LAS on JetBlue (B6): N\n",
      "Probability JFK-LAS on JetBlue (B6) Flight is Delayed: 0.003391590822604639 \n",
      "JFK-LAS on JetBlue (B6) Flight is not Delayed: 0.009341141574027129\n"
     ]
    }
   ],
   "source": [
    "#JFK-LAS on JetBlue (B6)\n",
    "\n",
    "select_B6 = df.loc[df['Carrier']=='B6']\n",
    "\n",
    "Pb6Y = (select_B6.Delayed.value_counts().Y + m/8) / (y_inst + m)\n",
    "Pb6N = (select_B6.Delayed.value_counts().N + m/8) / (n_inst + m)\n",
    "\n",
    "Pjlb6Y = y*PjfkY*PlasY*Pb6Y         #compute Y & N probability for route + carrier\n",
    "Pjlb6N = n*PjfkN*PlasN*Pb6N\n",
    "\n",
    "if Pjlb6Y > Pjlb6N:\n",
    "    print('JFK-LAS on JetBlue (B6): Y')\n",
    "else:\n",
    "    print('JFK-LAS on JetBlue (B6): N')\n",
    "print('Probability JFK-LAS on JetBlue (B6) Flight is Delayed:', Pjlb6Y ,'\\nJFK-LAS on JetBlue (B6) Flight is not Delayed:', Pjlb6N ) "
   ]
  },
  {
   "cell_type": "code",
   "execution_count": 74,
   "metadata": {},
   "outputs": [
    {
     "name": "stdout",
     "output_type": "stream",
     "text": [
      "SFO-ORD on Virgin Airlines (VX): N\n",
      "Probability SFO-ORD VX Flight is Delayed: 0.008337001851213098 \n",
      "Probability SFO-ORD VX Flight is not Delayed: 0.026196566403824204\n"
     ]
    }
   ],
   "source": [
    "#SFO-ORD on Virgin Airlines (VX)\n",
    "\n",
    "select_SFO = df.loc[df['Origin']=='SFO']                        #isolating data based on given conditions\n",
    "select_ORD = df.loc[df['Destination']=='ORD']\n",
    "select_VX = df.loc[df['Carrier']=='VX']\n",
    "\n",
    "PsfoY = (select_SFO.Delayed.value_counts().Y + m*.5) / (y_inst + m) #8 carriers, 3 destinations, 2 origins\n",
    "PsfoN = (select_SFO.Delayed.value_counts().N + m*.5) / (n_inst + m)\n",
    "PordY = (select_ORD.Delayed.value_counts().Y + m/3) / (y_inst + m)\n",
    "PordN = (select_ORD.Delayed.value_counts().N + m/3) / (n_inst + m)\n",
    "PvxY = (select_VX.Delayed.value_counts().Y + m/8) / (y_inst + m)\n",
    "PvxN = (select_VX.Delayed.value_counts().N + m/8) / (n_inst + m)\n",
    "\n",
    "PsovxY = y*PsfoY*PordY*PvxY         #compute Y & N probability for route + carrier\n",
    "PsovxN = n*PsfoN*PordN*PvxN\n",
    "\n",
    "if PsovxY > PsovxN:\n",
    "    print('SFO-ORD on Virgin Airlines (VX): Y')\n",
    "else:\n",
    "    print('SFO-ORD on Virgin Airlines (VX): N')\n",
    "print('Probability SFO-ORD VX Flight is Delayed:', PsovxY ,'\\nProbability SFO-ORD VX Flight is not Delayed:', PsovxN ) "
   ]
  },
  {
   "cell_type": "code",
   "execution_count": 73,
   "metadata": {},
   "outputs": [
    {
     "name": "stdout",
     "output_type": "stream",
     "text": [
      "SFO-ORD on Southwest Airlines (WN): N\n",
      "Probability SFO-ORD WN Flight is Delayed: 0.004189518577332296 \n",
      "Probability SFO-ORD WN Flight is not Delayed: 0.015426714248292913\n"
     ]
    }
   ],
   "source": [
    "#SFO-ORD on Southwest Airlines (WN)\n",
    "\n",
    "select_WN = df.loc[df['Carrier']=='WN']\n",
    "\n",
    "PwnY = (select_WN.Delayed.value_counts().Y + m/8) / (y_inst + m)\n",
    "PwnN = (select_WN.Delayed.value_counts().N + m/8) / (n_inst + m)\n",
    "\n",
    "PsownY = y*PsfoY*PordY*PwnY         #compute Y & N probability for route + carrier\n",
    "PsownN = n*PsfoN*PordN*PwnN\n",
    "\n",
    "if PsownY > PsownN:\n",
    "    print('SFO-ORD on Southwest Airlines (WN): Y')\n",
    "else:\n",
    "    print('SFO-ORD on Southwest Airlines (WN): N')\n",
    "print('Probability SFO-ORD WN Flight is Delayed:', PsownY ,'\\nProbability SFO-ORD WN Flight is not Delayed:', PsownN ) "
   ]
  },
  {
   "cell_type": "code",
   "execution_count": null,
   "metadata": {},
   "outputs": [],
   "source": []
  }
 ],
 "metadata": {
  "kernelspec": {
   "display_name": "Python 3",
   "language": "python",
   "name": "python3"
  },
  "language_info": {
   "codemirror_mode": {
    "name": "ipython",
    "version": 3
   },
   "file_extension": ".py",
   "mimetype": "text/x-python",
   "name": "python",
   "nbconvert_exporter": "python",
   "pygments_lexer": "ipython3",
   "version": "3.8.5"
  }
 },
 "nbformat": 4,
 "nbformat_minor": 4
}
