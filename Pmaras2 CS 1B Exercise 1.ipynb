{
 "cells": [
  {
   "cell_type": "code",
   "execution_count": 1,
   "metadata": {},
   "outputs": [
    {
     "name": "stdout",
     "output_type": "stream",
     "text": [
      "No, The flight will not be delayed\n",
      "Probability Flight is Delayed: 0.01428898033836305 \n",
      "Probability Flight is not Delayed: 0.017492711370262388\n"
     ]
    }
   ],
   "source": [
    "#Patricia Marasigan IE300 Case Study 1b, lab BD4, Exercise 1\n",
    "#will the flight SEA-ATL on Southwest with good weather be delayed? Use m-estimates for the conditional probabilities with m = 4.\n",
    "\n",
    "m = 4\n",
    "y = 5/8\n",
    "n = 3/8\n",
    "PsY = (3+m*.5) / (5+m)\n",
    "PsN = (1+m*.5) / (3+m)\n",
    "PaY = (1+m*.5) / (5+m)\n",
    "PaN = (2+m*.5) / (3+m)\n",
    "PgoodY = (1+m*.5) / (5+m)\n",
    "PgoodN = (2+m*.5) / (3+m)\n",
    "PswY = (2+m/3) / (5+m)\n",
    "PswN = (1+m/3) / (3+m)\n",
    "Py = y*PsY*PaY*PgoodY*PswY\n",
    "Pn = n*PsN*PaN*PgoodN*PswN\n",
    "if Py > Pn:\n",
    "    print('Yes, the flight will be delayed.')\n",
    "else:\n",
    "    print('No, The flight will not be delayed')\n",
    "print('Probability Flight is Delayed:', Py ,'\\nProbability Flight is not Delayed:', Pn) "
   ]
  },
  {
   "cell_type": "code",
   "execution_count": null,
   "metadata": {},
   "outputs": [],
   "source": []
  }
 ],
 "metadata": {
  "kernelspec": {
   "display_name": "Python 3",
   "language": "python",
   "name": "python3"
  },
  "language_info": {
   "codemirror_mode": {
    "name": "ipython",
    "version": 3
   },
   "file_extension": ".py",
   "mimetype": "text/x-python",
   "name": "python",
   "nbconvert_exporter": "python",
   "pygments_lexer": "ipython3",
   "version": "3.8.5"
  }
 },
 "nbformat": 4,
 "nbformat_minor": 4
}
